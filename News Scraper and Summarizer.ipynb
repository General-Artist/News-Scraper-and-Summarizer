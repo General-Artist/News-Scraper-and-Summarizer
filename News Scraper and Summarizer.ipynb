{
 "cells": [
  {
   "cell_type": "code",
   "execution_count": 16,
   "metadata": {},
   "outputs": [],
   "source": [
    "import nltk\n",
    "import tkinter as tk\n",
    "from nltk.corpus import stopwords \n",
    "from nltk.tokenize import word_tokenize, sent_tokenize"
   ]
  },
  {
   "cell_type": "code",
   "execution_count": 17,
   "metadata": {},
   "outputs": [],
   "source": [
    "def textSplitter(text):  \n",
    "    index = 0\n",
    "    count = 0\n",
    "    for i in text:\n",
    "        if i == \" \":\n",
    "            count += 1\n",
    "            if count % 5 == 0:\n",
    "                text = text[:index] + \"\\n\" + text[index+1:]\n",
    "        index += 1\n",
    "    return text\n",
    "\n",
    "def contentSummarizer(text):\n",
    "    stopWords = set(stopwords.words(\"english\"))\n",
    "    words = word_tokenize(text)\n",
    "    freqTable = {}\n",
    "\n",
    "    for word in words:\n",
    "        word = word.lower()\n",
    "        if word in stopWords:\n",
    "            continue\n",
    "        if word in freqTable:\n",
    "            freqTable[word] += 1\n",
    "        else: \n",
    "            freqTable[word] = 1\n",
    "\n",
    "    sentences = sent_tokenize(text)\n",
    "    sentenceValue = {}\n",
    "\n",
    "    for sentence in sentences: \n",
    "        for word, freq in freqTable.items(): \n",
    "            if word in sentence.lower(): \n",
    "                if sentence in sentenceValue: \n",
    "                    sentenceValue[sentence] += freq \n",
    "                else: \n",
    "                    sentenceValue[sentence] = freq \n",
    "\n",
    "    sumValues = 0\n",
    "    for sentence in sentenceValue:\n",
    "        sumValues += sentenceValue[sentence]\n",
    "    average = int(sumValues/len(sentenceValue))\n",
    "\n",
    "    summary = \"\" \n",
    "    for sentence in sentences:\n",
    "        if (sentence in sentenceValue) and (sentenceValue[sentence] > 1.1 * average):\n",
    "            summary += sentence + \" \"   \n",
    "    \n",
    "    print(textSplitter(summary))\n",
    "\n",
    "\n",
    "    "
   ]
  },
  {
   "cell_type": "code",
   "execution_count": 18,
   "metadata": {},
   "outputs": [
    {
     "name": "stdout",
     "output_type": "stream",
     "text": [
      "Python requests module has several\n",
      "built-in methods to make HTTP\n",
      "requests to specified URI using\n",
      "GET, POST, PUT, PATCH, or\n",
      "HEAD requests. A HTTP request\n",
      "is meant to either retrieve\n",
      "data from a specified URI\n",
      "or to push data to\n",
      "a server. \n"
     ]
    }
   ],
   "source": [
    "userInput = input(\"Enter your content: \")\n",
    "contentSummarizer(userInput)"
   ]
  }
 ],
 "metadata": {
  "kernelspec": {
   "display_name": "Python 3",
   "language": "python",
   "name": "python3"
  },
  "language_info": {
   "codemirror_mode": {
    "name": "ipython",
    "version": 3
   },
   "file_extension": ".py",
   "mimetype": "text/x-python",
   "name": "python",
   "nbconvert_exporter": "python",
   "pygments_lexer": "ipython3",
   "version": "3.11.6"
  }
 },
 "nbformat": 4,
 "nbformat_minor": 2
}
